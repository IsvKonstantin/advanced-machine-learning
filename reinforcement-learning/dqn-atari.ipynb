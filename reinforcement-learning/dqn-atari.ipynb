{
  "nbformat": 4,
  "nbformat_minor": 0,
  "metadata": {
    "colab": {
      "provenance": []
    },
    "kernelspec": {
      "name": "python3",
      "display_name": "Python 3"
    },
    "language_info": {
      "name": "python"
    },
    "accelerator": "GPU"
  },
  "cells": [
    {
      "cell_type": "code",
      "metadata": {
        "colab": {
          "base_uri": "https://localhost:8080/"
        },
        "id": "zpGWebNzw4_j",
        "outputId": "3c2aa8d8-eceb-4665-8be8-b4e44f4fcf0f"
      },
      "source": [
        "! wget http://www.atarimania.com/roms/Roms.rar\n",
        "! mkdir /content/ROM/\n",
        "! unrar e /content/Roms.rar /content/ROM/ &> /dev/null\n",
        "! python -m atari_py.import_roms /content/ROM/ &> /dev/null"
      ],
      "execution_count": null,
      "outputs": [
        {
          "output_type": "stream",
          "name": "stdout",
          "text": [
            "--2021-10-10 08:44:09--  http://www.atarimania.com/roms/Roms.rar\n",
            "Resolving www.atarimania.com (www.atarimania.com)... 195.154.81.199\n",
            "Connecting to www.atarimania.com (www.atarimania.com)|195.154.81.199|:80... connected.\n",
            "HTTP request sent, awaiting response... 200 OK\n",
            "Length: 11128004 (11M) [application/x-rar-compressed]\n",
            "Saving to: ‘Roms.rar’\n",
            "\n",
            "Roms.rar            100%[===================>]  10.61M   636KB/s    in 18s     \n",
            "\n",
            "2021-10-10 08:44:27 (613 KB/s) - ‘Roms.rar’ saved [11128004/11128004]\n",
            "\n"
          ]
        }
      ]
    },
    {
      "cell_type": "code",
      "metadata": {
        "id": "5IbCl-SI30aJ"
      },
      "source": [
        "!pip install gym pyvirtualdisplay > /dev/null 2>&1\n",
        "!apt-get install -y xvfb python-opengl ffmpeg > /dev/null 2>&1"
      ],
      "execution_count": null,
      "outputs": []
    },
    {
      "cell_type": "code",
      "metadata": {
        "colab": {
          "base_uri": "https://localhost:8080/",
          "height": 225
        },
        "id": "Gr2pkqFqKL0G",
        "outputId": "cebd451a-6b42-415e-8dcc-ba6322627d84"
      },
      "source": [
        "from google.colab import drive\n",
        "drive.mount('/content/drive')\n",
        "\n",
        "!pip install wandb -qqq\n",
        "import wandb\n",
        "wandb.init(project='atari-09-10', entity='flexatroid')"
      ],
      "execution_count": null,
      "outputs": [
        {
          "output_type": "stream",
          "name": "stdout",
          "text": [
            "Mounted at /content/drive\n",
            "\u001b[K     |████████████████████████████████| 1.7 MB 5.4 MB/s \n",
            "\u001b[K     |████████████████████████████████| 180 kB 40.4 MB/s \n",
            "\u001b[K     |████████████████████████████████| 139 kB 52.7 MB/s \n",
            "\u001b[K     |████████████████████████████████| 97 kB 6.0 MB/s \n",
            "\u001b[K     |████████████████████████████████| 63 kB 1.5 MB/s \n",
            "\u001b[?25h  Building wheel for subprocess32 (setup.py) ... \u001b[?25l\u001b[?25hdone\n",
            "  Building wheel for pathtools (setup.py) ... \u001b[?25l\u001b[?25hdone\n"
          ]
        },
        {
          "output_type": "display_data",
          "data": {
            "application/javascript": [
              "\n",
              "        window._wandbApiKey = new Promise((resolve, reject) => {\n",
              "            function loadScript(url) {\n",
              "            return new Promise(function(resolve, reject) {\n",
              "                let newScript = document.createElement(\"script\");\n",
              "                newScript.onerror = reject;\n",
              "                newScript.onload = resolve;\n",
              "                document.body.appendChild(newScript);\n",
              "                newScript.src = url;\n",
              "            });\n",
              "            }\n",
              "            loadScript(\"https://cdn.jsdelivr.net/npm/postmate/build/postmate.min.js\").then(() => {\n",
              "            const iframe = document.createElement('iframe')\n",
              "            iframe.style.cssText = \"width:0;height:0;border:none\"\n",
              "            document.body.appendChild(iframe)\n",
              "            const handshake = new Postmate({\n",
              "                container: iframe,\n",
              "                url: 'https://wandb.ai/authorize'\n",
              "            });\n",
              "            const timeout = setTimeout(() => reject(\"Couldn't auto authenticate\"), 5000)\n",
              "            handshake.then(function(child) {\n",
              "                child.on('authorize', data => {\n",
              "                    clearTimeout(timeout)\n",
              "                    resolve(data)\n",
              "                });\n",
              "            });\n",
              "            })\n",
              "        });\n",
              "    "
            ],
            "text/plain": [
              "<IPython.core.display.Javascript object>"
            ]
          },
          "metadata": {}
        },
        {
          "output_type": "stream",
          "name": "stderr",
          "text": [
            "\u001b[34m\u001b[1mwandb\u001b[0m: Appending key for api.wandb.ai to your netrc file: /root/.netrc\n"
          ]
        },
        {
          "output_type": "display_data",
          "data": {
            "text/html": [
              "\n",
              "                    Syncing run <strong><a href=\"https://wandb.ai/flexatroid/atari-09-10/runs/25p8maso\" target=\"_blank\">generous-firebrand-4</a></strong> to <a href=\"https://wandb.ai/flexatroid/atari-09-10\" target=\"_blank\">Weights & Biases</a> (<a href=\"https://docs.wandb.com/integrations/jupyter.html\" target=\"_blank\">docs</a>).<br/>\n",
              "\n",
              "                "
            ],
            "text/plain": [
              "<IPython.core.display.HTML object>"
            ]
          },
          "metadata": {}
        },
        {
          "output_type": "execute_result",
          "data": {
            "text/plain": [
              "<wandb.sdk.wandb_run.Run at 0x7f9ffd3ec050>"
            ],
            "text/html": [
              "<button onClick=\"this.nextSibling.style.display='block';this.style.display='none';\">Display W&B run</button><iframe src=\"https://wandb.ai/flexatroid/atari-09-10/runs/25p8maso?jupyter=true\" style=\"border:none;width:100%;height:420px;display:none;\"></iframe>"
            ]
          },
          "metadata": {},
          "execution_count": 3
        }
      ]
    },
    {
      "cell_type": "code",
      "metadata": {
        "id": "J7H8EpqeBV-G"
      },
      "source": [
        "import gym\n",
        "import torch\n",
        "from skimage.color import rgb2gray\n",
        "from skimage.transform import rescale\n",
        "import numpy as np\n",
        "import torch.nn as nn\n",
        "from tqdm import tqdm\n",
        "from collections import deque\n",
        "import random\n",
        "import time\n",
        "from torch.nn.functional import smooth_l1_loss, leaky_relu\n",
        "from IPython import display as ipythondisplay\n",
        "from pyvirtualdisplay import Display\n",
        "from gym.wrappers import Monitor\n",
        "import glob\n",
        "import io\n",
        "import base64\n",
        "from IPython.display import HTML\n",
        "\n",
        "\n",
        "%matplotlib inline \n",
        "from matplotlib import pyplot as plt"
      ],
      "execution_count": null,
      "outputs": []
    },
    {
      "cell_type": "code",
      "metadata": {
        "colab": {
          "base_uri": "https://localhost:8080/",
          "height": 366
        },
        "id": "TrJaTfTEuk1j",
        "outputId": "63325c08-9e53-4c84-fa86-31b56a0bc72b"
      },
      "source": [
        "def process_image(state):\n",
        "    state = rgb2gray(state[35:195, :, :])\n",
        "    state = rescale(state, scale=0.5)[np.newaxis, np.newaxis, :, :] \n",
        "    return torch.tensor(state)\n",
        "\n",
        "env = gym.make('BreakoutDeterministic-v4')\n",
        "print(env.action_space.n)\n",
        "print(env.observation_space)\n",
        "state = env.reset()\n",
        "\n",
        "print((process_image(state)).shape)\n",
        "print(rgb2gray(state[35:195, :, :]).shape)\n",
        "\n",
        "fig, axes = plt.subplots(1, 2, figsize=(8, 4))\n",
        "ax = axes.ravel()\n",
        "\n",
        "ax[0].imshow(state)\n",
        "ax[0].set_title(\"Original\")\n",
        "ax[1].imshow(np.squeeze(process_image(state)), cmap=plt.cm.gray)\n",
        "ax[1].set_title(\"Processed\")\n",
        "\n",
        "fig.tight_layout()\n",
        "plt.show()"
      ],
      "execution_count": null,
      "outputs": [
        {
          "output_type": "stream",
          "name": "stdout",
          "text": [
            "4\n",
            "Box(0, 255, (210, 160, 3), uint8)\n",
            "torch.Size([1, 1, 80, 80])\n",
            "(160, 160)\n"
          ]
        },
        {
          "output_type": "display_data",
          "data": {
            "image/png": "[encoded data removed]",
            "text/plain": [
              "<Figure size 576x288 with 2 Axes>"
            ]
          },
          "metadata": {
            "needs_background": "light"
          }
        }
      ]
    },
    {
      "cell_type": "code",
      "metadata": {
        "id": "TmrABmqYL0Xm"
      },
      "source": [
        "class DeepQNetwork(nn.Module):\n",
        "    def __init__(self, num_frames, num_actions):\n",
        "        super(DeepQNetwork, self).__init__()\n",
        "        self.num_frames = num_frames\n",
        "        self.num_actions = num_actions\n",
        "\n",
        "        self.conv1 = nn.Conv2d(\n",
        "            in_channels=num_frames,\n",
        "            out_channels=16,\n",
        "            kernel_size=8,\n",
        "            stride=4,\n",
        "            padding=2\n",
        "            )\n",
        "        self.conv2 = nn.Conv2d(\n",
        "            in_channels=16,\n",
        "            out_channels=32,\n",
        "            kernel_size=4,\n",
        "            stride=2,\n",
        "            padding=1\n",
        "            )\n",
        "        self.fc1 = nn.Linear(\n",
        "            in_features=3200,\n",
        "            out_features=256,\n",
        "            )\n",
        "        self.fc2 = nn.Linear(\n",
        "            in_features=256,\n",
        "            out_features=num_actions,\n",
        "            )\n",
        "\n",
        "    def flatten(self, x):\n",
        "        return x.view(x.size()[0], -1)\n",
        "\n",
        "    def forward(self, x, k_relu=0.02):\n",
        "        x = leaky_relu(self.conv1(x), k_relu)\n",
        "        x = leaky_relu(self.conv2(x), k_relu)\n",
        "        x = self.flatten(x)                  \n",
        "        x = leaky_relu(self.fc1(x), k_relu)\n",
        "        x = self.fc2(x)\n",
        "\n",
        "        return x"
      ],
      "execution_count": null,
      "outputs": []
    },
    {
      "cell_type": "code",
      "metadata": {
        "id": "vV23J9bnw4E_"
      },
      "source": [
        "class DeepQLearningAtari:\n",
        "    def __init__(self, env, lr=0.0001):\n",
        "        self.env = env\n",
        "        self.device = torch.device(\"cuda\" if torch.cuda.is_available() else \"cpu\")\n",
        "        self.action_num = env.action_space.n\n",
        "        self.state_num = env.observation_space.shape[0]\n",
        "        self.num_frames = 4\n",
        "        self.last_info = {'ale.lives': 5}\n",
        "        self.model = DeepQNetwork(self.num_frames, self.action_num).to(self.device)\n",
        "        self.optimizer = torch.optim.Adam(self.model.parameters(), lr=lr)\n",
        "\n",
        "    def save(self, model_path):\n",
        "        torch.save(self.model.state_dict(), model_path)  \n",
        "\n",
        "    def load(self, model_path):\n",
        "        self.model.load_state_dict(torch.load(model_path))   \n",
        "\n",
        "    def process_image(self, state):\n",
        "        state = rgb2gray(state[35:195, :, :])\n",
        "        state = rescale(state, scale=0.5)[np.newaxis, np.newaxis, :, :] \n",
        "        return torch.tensor(state).float().to(self.device)    \n",
        "\n",
        "    def play(self, train=True, gamma=0.99, eps=0.9, batch_size=32, memory_size=50000, games=3000, model_path=\"model-atari\"):\n",
        "        def choose_action():\n",
        "            random_action = random.randint(0, self.action_num - 1)\n",
        "            if not train and info != self.last_info: return 1\n",
        "            return random_action if random.random() < eps else output.argmax().item()\n",
        "\n",
        "        if not train:\n",
        "          self.load(model_path) \n",
        "\n",
        "        memory = deque(maxlen=memory_size)\n",
        "        state = self.process_image(self.env.reset())\n",
        "\n",
        "        for game in tqdm(range(games), position=0, leave=True):\n",
        "            total_reward = 0\n",
        "            done = False\n",
        "            info = self.last_info\n",
        "\n",
        "            if (game % 500 == 0 and game > 0 and train):\n",
        "                print(\"Saving model at game \", game)\n",
        "                self.save(model_path)\n",
        "\n",
        "            while not done:\n",
        "                if not train:\n",
        "                  self.env.render()\n",
        "                  time.sleep(0.1)   \n",
        "                while state.size()[1] < self.num_frames:\n",
        "                    action = 1\n",
        "                    new_frame, reward, done, _ = self.env.step(action)\n",
        "                    new_frame = self.process_image(new_frame)\n",
        "                    state = torch.cat([state, new_frame], 1)\n",
        "                output = self.model(torch.tensor(state).float())\n",
        "\n",
        "                action = choose_action()\n",
        "\n",
        "                self.last_info = info\n",
        "                next_frame, reward, done, info = self.env.step(action)\n",
        "                next_frame = self.process_image(next_frame)\n",
        "                next_state = torch.cat([state, next_frame], 1)[:, 1:, :, :]\n",
        "\n",
        "                memory.append((state,next_state,reward, done, action))\n",
        "\n",
        "                total_reward += reward\n",
        "                if done and train:\n",
        "                    wandb.log({\"total_reward\": total_reward})\n",
        "                    state = self.process_image(self.env.reset())\n",
        "                else:\n",
        "                    state = next_state\n",
        "                \n",
        "      \n",
        "                if train and len(memory) > batch_size:\n",
        "                    batch = list(zip(*random.sample(list(memory), batch_size)))\n",
        "                    state_batch = torch.cat(batch[0], 0).to(self.device)\n",
        "                    next_state_batch = torch.cat(batch[1], 0).to(self.device)\n",
        "                    reward_batch = torch.tensor(batch[2]).to(self.device)\n",
        "                    done_batch = torch.tensor(batch[3]).to(self.device)\n",
        "                    action_batch = torch.tensor(batch[4]).to(self.device)\n",
        "\n",
        "                    with torch.no_grad():\n",
        "                        target_q, _ = self.model(next_state_batch).max(dim=1)\n",
        "                        target_q[done_batch] = 0\n",
        "\n",
        "                    target_q = reward_batch + gamma * target_q\n",
        "\n",
        "                    q = self.model(state_batch).gather(dim=1, index=action_batch.unsqueeze(dim=1)).squeeze()\n",
        "\n",
        "                    self.optimizer.zero_grad()\n",
        "                    smooth_l1_loss(q, target_q).backward()\n",
        "                    self.optimizer.step()\n",
        "\n",
        "            eps = max(0.05, eps - eps * (game / games))\n",
        "\n",
        "        if train:    \n",
        "          self.save(model_path)"
      ],
      "execution_count": null,
      "outputs": []
    },
    {
      "cell_type": "code",
      "metadata": {
        "colab": {
          "base_uri": "https://localhost:8080/"
        },
        "id": "SW1zxQUQIUN9",
        "outputId": "bc1b1dbe-1503-41bc-9a9f-0d2b2bb25043"
      },
      "source": [
        "path = '/content/drive/MyDrive/AdvancedML/breakout/model-09-10'\n",
        "\n",
        "env = gym.make('BreakoutDeterministic-v4')\n",
        "dq = DeepQLearningAtari(env)\n",
        "dq.play(model_path=path, games=3000)\n",
        "env.close()"
      ],
      "execution_count": null,
      "outputs": [
        {
          "output_type": "stream",
          "name": "stderr",
          "text": [
            "  0%|          | 0/3000 [00:00<?, ?it/s]/usr/local/lib/python3.7/dist-packages/ipykernel_launcher.py:53: UserWarning: To copy construct from a tensor, it is recommended to use sourceTensor.clone().detach() or sourceTensor.clone().detach().requires_grad_(True), rather than torch.tensor(sourceTensor).\n",
            " 17%|█▋        | 500/3000 [26:33<2:52:15,  4.13s/it]"
          ]
        },
        {
          "output_type": "stream",
          "name": "stdout",
          "text": [
            "Saving model at game  500\n"
          ]
        },
        {
          "output_type": "stream",
          "name": "stderr",
          "text": [
            " 33%|███▎      | 1000/3000 [1:05:07<2:44:00,  4.92s/it]"
          ]
        },
        {
          "output_type": "stream",
          "name": "stdout",
          "text": [
            "Saving model at game  1000\n"
          ]
        },
        {
          "output_type": "stream",
          "name": "stderr",
          "text": [
            " 50%|█████     | 1500/3000 [1:46:00<1:42:05,  4.08s/it]"
          ]
        },
        {
          "output_type": "stream",
          "name": "stdout",
          "text": [
            "Saving model at game  1500\n"
          ]
        },
        {
          "output_type": "stream",
          "name": "stderr",
          "text": [
            " 67%|██████▋   | 2000/3000 [2:27:46<1:20:14,  4.81s/it]"
          ]
        },
        {
          "output_type": "stream",
          "name": "stdout",
          "text": [
            "Saving model at game  2000\n"
          ]
        },
        {
          "output_type": "stream",
          "name": "stderr",
          "text": [
            " 83%|████████▎ | 2500/3000 [3:11:56<40:34,  4.87s/it]"
          ]
        },
        {
          "output_type": "stream",
          "name": "stdout",
          "text": [
            "Saving model at game  2500\n"
          ]
        },
        {
          "output_type": "stream",
          "name": "stderr",
          "text": [
            "100%|██████████| 3000/3000 [4:00:23<00:00,  4.81s/it]\n"
          ]
        }
      ]
    },
    {
      "cell_type": "code",
      "metadata": {
        "id": "F5oiqiEwZM_w"
      },
      "source": [
        "def show_video():\n",
        "  mp4list = glob.glob('video/*.mp4')\n",
        "  if len(mp4list) > 0:\n",
        "    mp4 = mp4list[0]\n",
        "    video = io.open(mp4, 'r+b').read()\n",
        "    encoded = base64.b64encode(video)\n",
        "    ipythondisplay.display(HTML(data='''<video alt=\"test\" autoplay \n",
        "                loop controls style=\"height: 400px;\">\n",
        "                <source src=\"data:video/mp4;base64,{0}\" type=\"video/mp4\" />\n",
        "             </video>'''.format(encoded.decode('ascii'))))\n",
        "  else: \n",
        "    print(\"Could not find video\")\n",
        "    \n",
        "\n",
        "def wrap_env(env):\n",
        "  env = Monitor(env, './video', force=True)\n",
        "  return env"
      ],
      "execution_count": null,
      "outputs": []
    },
    {
      "cell_type": "code",
      "metadata": {
        "colab": {
          "base_uri": "https://localhost:8080/",
          "height": 475
        },
        "id": "KmgR4EipYXP9",
        "outputId": "de4cb237-7ad0-4689-a71c-e4705f71ff73"
      },
      "source": [
        "display = Display(visible=0, size=(1400, 900))\n",
        "display.start()\n",
        "env = wrap_env(gym.make('BreakoutDeterministic-v4'))\n",
        "dq = DeepQLearningAtari(env)\n",
        "path = '/content/drive/MyDrive/AdvancedML/breakout/model-09-10-night'\n",
        "dq.play(train=False, games=1, eps=0, model_path=path)\n",
        "env.close()\n",
        "show_video()"
      ],
      "execution_count": null,
      "outputs": [
        {
          "output_type": "stream",
          "name": "stderr",
          "text": [
            "  0%|          | 0/1 [00:00<?, ?it/s]/usr/local/lib/python3.7/dist-packages/ipykernel_launcher.py:53: UserWarning: To copy construct from a tensor, it is recommended to use sourceTensor.clone().detach() or sourceTensor.clone().detach().requires_grad_(True), rather than torch.tensor(sourceTensor).\n",
            "100%|██████████| 1/1 [00:50<00:00, 50.47s/it]\n"
          ]
        },
        {
          "output_type": "display_data",
          "data": {
            "text/html": [
              "<video alt=\"test\" autoplay \n",
              "                loop controls style=\"height: 400px;\">\n",
              "                <source src=\"data:video/mp4;base64,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\" type=\"video/mp4\" />\n",
              "             </video>"
            ],
            "text/plain": [
              "<IPython.core.display.HTML object>"
            ]
          },
          "metadata": {}
        }
      ]
    },
    {
      "cell_type": "markdown",
      "metadata": {
        "id": "9fPKAwzAjSHK"
      },
      "source": [
        "![Alt text](https://drive.google.com/uc?export=view&id=1YluJbk28CZplmY_EqcoXPKqRgPTOxYPx)"
      ]
    },
    {
      "cell_type": "markdown",
      "metadata": {
        "id": "r05cfJVkJpNo"
      },
      "source": [
        "https://storage.googleapis.com/deepmind-media/dqn/DQNNaturePaper.pdf"
      ]
    }
  ]
}
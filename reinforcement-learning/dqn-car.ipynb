{
  "nbformat": 4,
  "nbformat_minor": 0,
  "metadata": {
    "kernelspec": {
      "display_name": "Python 3 (ipykernel)",
      "language": "python",
      "name": "python3"
    },
    "language_info": {
      "codemirror_mode": {
        "name": "ipython",
        "version": 3
      },
      "file_extension": ".py",
      "mimetype": "text/x-python",
      "name": "python",
      "nbconvert_exporter": "python",
      "pygments_lexer": "ipython3",
      "version": "3.9.7"
    },
    "colab": {
      "provenance": []
    }
  },
  "cells": [
    {
      "cell_type": "code",
      "metadata": {
        "id": "ZOm3Ie-cm7w2"
      },
      "source": [
        "import numpy as np\n",
        "import random\n",
        "import gym\n",
        "import torch\n",
        "from torch.nn import Sequential, Linear, ReLU\n",
        "from torch.nn.functional import mse_loss\n",
        "from collections import deque\n",
        "from torch import optim\n",
        "from tqdm import tqdm\n",
        "\n",
        "import pyglet"
      ],
      "execution_count": null,
      "outputs": []
    },
    {
      "cell_type": "code",
      "metadata": {
        "pycharm": {
          "name": "#%%\n"
        },
        "colab": {
          "base_uri": "https://localhost:8080/"
        },
        "id": "CU4mlg8om7w3",
        "outputId": "379fbedb-76c2-49fc-db54-a09a9c78da0e"
      },
      "source": [
        "enviroment = gym.make(\"MountainCar-v0\")\n",
        "print(enviroment.action_space)\n",
        "print(enviroment.observation_space)"
      ],
      "execution_count": null,
      "outputs": [
        {
          "output_type": "stream",
          "name": "stdout",
          "text": [
            "Discrete(3)\n",
            "Box(-1.2000000476837158, 0.6000000238418579, (2,), float32)\n"
          ]
        }
      ]
    },
    {
      "cell_type": "code",
      "metadata": {
        "pycharm": {
          "name": "#%%\n"
        },
        "id": "ZArQW_82m7w5"
      },
      "source": [
        "class DeepQLearning:\n",
        "    def __init__(self, env, linear_dim=32, lr=0.005, games=200):\n",
        "        self.env = env\n",
        "        # Количество игр (запусков машинки)\n",
        "        self.games = games\n",
        "        \n",
        "        # Количество действий\n",
        "        self.action_num = env.action_space.n\n",
        "        \n",
        "        # Количество показателей, описывающих состояние\n",
        "        self.state_num = env.observation_space.shape[0]\n",
        "        \n",
        "        # 2 скрытых слоя по 32 нейрона, после них - функии активаци ReLu\n",
        "        # на выходе мы получаем оценку Q-функции: Q(s, a1), Q(s, a2), Q(s, a3)\n",
        "        self.model = Sequential(\n",
        "                         Linear(self.state_num, linear_dim),\n",
        "                         ReLU(),\n",
        "                         Linear(linear_dim, linear_dim),\n",
        "                         ReLU(),\n",
        "                         Linear(linear_dim, self.action_num)\n",
        "        )\n",
        "        \n",
        "        # Оптимизатор для градиентного спуска\n",
        "        self.optimizer = optim.Adam(self.model.parameters(), lr=lr)\n",
        "\n",
        "    def train(self, gamma=0.99, eps=0.5, batch_size=128, memory_size=10000, k_r=1000):\n",
        "        def choose_action():\n",
        "            random_action = random.randint(0, self.action_num - 1)\n",
        "            return random_action if random.random() < eps else output.argmax().item()\n",
        "\n",
        "        memory = deque(maxlen=memory_size)\n",
        "        # env.reset() — завершает текущий эпизод и начинает новый. Возвращает начальное состояние.\n",
        "        state = self.env.reset()\n",
        "        games_rewards = []\n",
        "\n",
        "        for game in tqdm(range(self.games)):\n",
        "            total_reward = 0\n",
        "            done = False\n",
        "\n",
        "            while not done:\n",
        "                # if (game > 180):\n",
        "                #     self.env.render()\n",
        "                output = self.model(torch.tensor(state).float())\n",
        "\n",
        "                # e-greedy политика. Выбираем жадно, по max; иногда выбираем случайно - \"exploration\"\n",
        "                action = choose_action()\n",
        "\n",
        "                # env.step(action) — совершает указанное действие.\n",
        "                # Возвращает новое состояние, награду, завершился ли эпизод и дополнительную информацию,\n",
        "                # которую можно использовать для дебага\n",
        "                next_state, reward, done, _ = self.env.step(action)\n",
        "                # reward shaping\n",
        "                # На каждом шаге наш агент получает награду -1, и так происходит до тех пор, пока не завершится эпизод\n",
        "                # 1) (добавим модуль скорости с некоторым коэффициентом к награде)\n",
        "                # 2) есть класс «безопасных» изменений, которые основаны на методе потенциалов. Воспользуемся:\n",
        "                modified_reward = reward + k_r * (gamma * abs(next_state[1]) - abs(state[1]))\n",
        "                \n",
        "                # Загружаем в память\n",
        "                # Структура памяти:\n",
        "                # [состояние - новое состояние - награда - закончили? - действие]\n",
        "                memory.append((state, next_state, modified_reward, done, action))\n",
        "                total_reward += reward\n",
        "                if done:\n",
        "                    games_rewards.append(total_reward)\n",
        "                    state = self.env.reset()\n",
        "                else:\n",
        "                    state = next_state\n",
        "\n",
        "\n",
        "                if len(memory) > batch_size:\n",
        "                    batch = list(zip(*random.sample(list(memory), batch_size)))\n",
        "                    state_batch = torch.tensor(batch[0]).float()\n",
        "                    next_state_batch = torch.tensor(batch[1]).float()\n",
        "                    reward_batch = torch.tensor(batch[2]).float()\n",
        "                    done_batch = torch.tensor(batch[3])\n",
        "                    action_batch = torch.tensor(batch[4])\n",
        "                    \n",
        "                    with torch.no_grad():\n",
        "                        # Выбираем максимальное из значений Q-function для следующего состояния\n",
        "                        target_q, _ = self.model(next_state_batch).max(dim=1)\n",
        "                        target_q[done_batch] = 0\n",
        "\n",
        "                    target_q = reward_batch + gamma * target_q\n",
        "                    \n",
        "                    # Текущее предсказание\n",
        "                    q = self.model(state_batch).gather(dim=1, index=action_batch.unsqueeze(dim=1)).squeeze()\n",
        "                    \n",
        "                    # Градиентный спуск\n",
        "                    self.optimizer.zero_grad()\n",
        "                    mse_loss(q, target_q).backward()\n",
        "\n",
        "                    self.optimizer.step()\n",
        "\n",
        "            # обновляем для e-greedy политики\n",
        "            eps = max(0.05, eps - eps * (game / self.games))\n",
        "\n",
        "        return games_rewards"
      ],
      "execution_count": null,
      "outputs": []
    },
    {
      "cell_type": "code",
      "metadata": {
        "pycharm": {
          "name": "#%%\n"
        },
        "colab": {
          "base_uri": "https://localhost:8080/"
        },
        "id": "FdXt8dWem7w7",
        "outputId": "c9ef23ca-6efd-4976-ec31-eb9b8ebd2c63"
      },
      "source": [
        "N_AGENTS = 9\n",
        "all_games = []\n",
        "\n",
        "for _ in range(N_AGENTS):\n",
        "    dq = DeepQLearning(enviroment)\n",
        "    games_rewards = dq.train()\n",
        "    all_games.append(games_rewards)\n",
        "\n",
        "mean_games_rewards = np.array(all_games).mean(axis=0)"
      ],
      "execution_count": null,
      "outputs": [
        {
          "output_type": "stream",
          "name": "stderr",
          "text": [
            "100%|██████████| 200/200 [01:06<00:00,  3.00it/s]\n",
            "100%|██████████| 200/200 [01:10<00:00,  2.85it/s]\n",
            "100%|██████████| 200/200 [01:08<00:00,  2.93it/s]\n",
            "100%|██████████| 200/200 [01:08<00:00,  2.94it/s]\n",
            "100%|██████████| 200/200 [01:18<00:00,  2.55it/s]\n",
            "100%|██████████| 200/200 [01:09<00:00,  2.86it/s]\n",
            "100%|██████████| 200/200 [01:12<00:00,  2.77it/s]\n",
            "100%|██████████| 200/200 [01:08<00:00,  2.94it/s]\n",
            "100%|██████████| 200/200 [01:07<00:00,  2.94it/s]\n"
          ]
        }
      ]
    },
    {
      "cell_type": "code",
      "metadata": {
        "pycharm": {
          "name": "#%%\n"
        },
        "id": "3doWNz7Zm7w7",
        "colab": {
          "base_uri": "https://localhost:8080/",
          "height": 296
        },
        "outputId": "ee6347f5-a4a6-4482-9a5e-a60d520ad5af"
      },
      "source": [
        "from matplotlib import pyplot as plt\n",
        "\n",
        "fig, ax = plt.subplots()\n",
        "plt.plot(range(len(mean_games_rewards)), mean_games_rewards)\n",
        "ax.set_xlabel(\"Games\")\n",
        "ax.set_ylabel(\"Rewards\")\n",
        "plt.legend()\n",
        "enviroment.close()"
      ],
      "execution_count": null,
      "outputs": [
        {
          "output_type": "stream",
          "name": "stderr",
          "text": [
            "No handles with labels found to put in legend.\n"
          ]
        },
        {
          "output_type": "display_data",
          "data": {
            "image/png": "[encoded data removed]",
            "text/plain": [
              "<Figure size 432x288 with 1 Axes>"
            ]
          },
          "metadata": {
            "needs_background": "light"
          }
        }
      ]
    },
    {
      "cell_type": "markdown",
      "metadata": {
        "id": "WQDM72ZEzvI_"
      },
      "source": [
        "## Game example (around 190)\n",
        "\n",
        "![Alt text](https://drive.google.com/uc?export=view&id=1SfycvDZvRT6Bxj4hCcUm0c4UF1mn8z6g)"
      ]
    },
    {
      "cell_type": "code",
      "metadata": {
        "id": "RjxzBu7Oz2gm"
      },
      "source": [],
      "execution_count": null,
      "outputs": []
    }
  ]
}